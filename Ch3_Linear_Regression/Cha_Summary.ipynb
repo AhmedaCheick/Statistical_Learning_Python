{
 "cells": [
  {
   "cell_type": "markdown",
   "metadata": {},
   "source": [
    "# Chapter 3: Linear Regression \n",
    "---\n",
    "\n",
    "This chapter is about linear regression, a very simple, yet powerful, approach to supervised learning for predicting a quantitative respone. In this chapter, we review some key ideas underlying the linear regression model, as well as the <strong>least squares</strong> approach, that is commonly used to <strong>fit</strong> a model. \n",
    "\n",
    "## 3.1 Simple Linear Regression \n",
    "SLR lives up to its name: it's a straightforward approach for predicting a response <strong>$Y$</strong> on the basis of a <strong>single</strong> predictor $X$. We assume there is approximately a linear relationship between the two. Mathematically it's written as: <br>\n",
    " $$\n",
    "\\begin{equation}\n",
    "  Y \\approx \\beta_0 + \\beta_1X\n",
    "\\label{eq:SLR}\n",
    "\\tag{3.1}\n",
    "\\end{equation}\n",
    "$$\n",
    "\"$\\approx$\" is read as approximately. We can describe (3.1) by saying that we are regressing $Y$ onto $X$. \n",
    "\n",
    " \n",
    "### 3.1.1 Estimating the Coefficients\n",
    "### 3.1.2 Assessing the Accuracy of the Coefficient Estimates\n",
    "### 3.1.3 Assessing the Accuracy of the Model\n",
    "\n",
    "## 3.2 Multiple Linear Regression \n",
    "### 3.2.1 Estimating the Regression Coefficients \n",
    "### 3.2.2 Some Important Questions\n",
    "\n",
    "## 3.3 Other Considerations in the Regression Model \n",
    "### 3.3.1 Qualitative Predictors \n",
    "### 3.3.2 Extensions of the Linear Model \n",
    "### 3.3.3 Potential Problems \n",
    "## 3.5 Comparison of Linear Regression with K-Nearest Neighbors"
   ]
  },
  {
   "cell_type": "code",
   "execution_count": null,
   "metadata": {},
   "outputs": [],
   "source": []
  }
 ],
 "metadata": {
  "kernelspec": {
   "display_name": "Python 3",
   "language": "python",
   "name": "python3"
  },
  "language_info": {
   "codemirror_mode": {
    "name": "ipython",
    "version": 3
   },
   "file_extension": ".py",
   "mimetype": "text/x-python",
   "name": "python",
   "nbconvert_exporter": "python",
   "pygments_lexer": "ipython3",
   "version": "3.6.8"
  }
 },
 "nbformat": 4,
 "nbformat_minor": 2
}
